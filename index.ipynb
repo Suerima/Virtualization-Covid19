{
 "cells": [
  {
   "cell_type": "code",
   "execution_count": 2,
   "metadata": {},
   "outputs": [],
   "source": [
    "import numpy as np\n",
    "import pandas as pd"
   ]
  },
  {
   "cell_type": "code",
   "execution_count": 3,
   "metadata": {},
   "outputs": [],
   "source": [
    "# Read file csv\n",
    "confirmed_df = pd.read_csv('time_series_covid19_confirmed_global.csv')\n",
    "deaths_df = pd.read_csv('time_series_covid19_deaths_global.csv')\n",
    "recovered_df = pd.read_csv('time_series_covid19_recovered_global.csv')"
   ]
  },
  {
   "cell_type": "code",
   "execution_count": 4,
   "metadata": {},
   "outputs": [],
   "source": [
    "# Drop column not needed\n",
    "confirmed_df.drop(['Province/State', 'Lat', 'Long', ], axis=1, inplace=True)\n",
    "deaths_df.drop(['Province/State', 'Lat', 'Long', ], axis=1, inplace=True)\n",
    "recovered_df.drop(['Province/State', 'Lat', 'Long', ], axis=1, inplace=True)\n"
   ]
  },
  {
   "cell_type": "code",
   "execution_count": 5,
   "metadata": {},
   "outputs": [],
   "source": [
    "# Group by country and sum recoveries\n",
    "# Delete index after group by\n",
    "confirmed_df = confirmed_df.groupby('Country/Region').sum().reset_index()\n",
    "deaths_df = deaths_df.groupby('Country/Region').sum().reset_index()\n",
    "recovered_df = recovered_df.groupby('Country/Region').sum().reset_index()\n"
   ]
  },
  {
   "cell_type": "code",
   "execution_count": 6,
   "metadata": {},
   "outputs": [],
   "source": [
    "confirmed_df = confirmed_df.melt(id_vars='Country/Region', var_name='Date', value_name='Confirmed')\n",
    "deaths_df = deaths_df.melt(id_vars='Country/Region', var_name='Date', value_name='Death')\n",
    "recovered_df = recovered_df.melt(id_vars='Country/Region', var_name='Date', value_name='Recovered')\n"
   ]
  },
  {
   "cell_type": "code",
   "execution_count": 12,
   "metadata": {},
   "outputs": [],
   "source": [
    "df_merged = pd.merge(confirmed_df, deaths_df, on=['Country/Region', 'Date'])\n",
    "df_merged1 = pd.merge(df_merged, recovered_df, on = ['Country/Region', 'Date'])"
   ]
  },
  {
   "cell_type": "code",
   "execution_count": 15,
   "metadata": {},
   "outputs": [
    {
     "data": {
      "text/html": [
       "<div>\n",
       "<style scoped>\n",
       "    .dataframe tbody tr th:only-of-type {\n",
       "        vertical-align: middle;\n",
       "    }\n",
       "\n",
       "    .dataframe tbody tr th {\n",
       "        vertical-align: top;\n",
       "    }\n",
       "\n",
       "    .dataframe thead th {\n",
       "        text-align: right;\n",
       "    }\n",
       "</style>\n",
       "<table border=\"1\" class=\"dataframe\">\n",
       "  <thead>\n",
       "    <tr style=\"text-align: right;\">\n",
       "      <th></th>\n",
       "      <th>Country/Region</th>\n",
       "      <th>Date</th>\n",
       "      <th>Confirmed</th>\n",
       "      <th>Death</th>\n",
       "      <th>Recovered</th>\n",
       "    </tr>\n",
       "  </thead>\n",
       "  <tbody>\n",
       "    <tr>\n",
       "      <th>0</th>\n",
       "      <td>Afghanistan</td>\n",
       "      <td>1/22/20</td>\n",
       "      <td>0</td>\n",
       "      <td>0</td>\n",
       "      <td>0</td>\n",
       "    </tr>\n",
       "    <tr>\n",
       "      <th>1</th>\n",
       "      <td>Albania</td>\n",
       "      <td>1/22/20</td>\n",
       "      <td>0</td>\n",
       "      <td>0</td>\n",
       "      <td>0</td>\n",
       "    </tr>\n",
       "    <tr>\n",
       "      <th>2</th>\n",
       "      <td>Algeria</td>\n",
       "      <td>1/22/20</td>\n",
       "      <td>0</td>\n",
       "      <td>0</td>\n",
       "      <td>0</td>\n",
       "    </tr>\n",
       "    <tr>\n",
       "      <th>3</th>\n",
       "      <td>Andorra</td>\n",
       "      <td>1/22/20</td>\n",
       "      <td>0</td>\n",
       "      <td>0</td>\n",
       "      <td>0</td>\n",
       "    </tr>\n",
       "    <tr>\n",
       "      <th>4</th>\n",
       "      <td>Angola</td>\n",
       "      <td>1/22/20</td>\n",
       "      <td>0</td>\n",
       "      <td>0</td>\n",
       "      <td>0</td>\n",
       "    </tr>\n",
       "    <tr>\n",
       "      <th>...</th>\n",
       "      <td>...</td>\n",
       "      <td>...</td>\n",
       "      <td>...</td>\n",
       "      <td>...</td>\n",
       "      <td>...</td>\n",
       "    </tr>\n",
       "    <tr>\n",
       "      <th>229738</th>\n",
       "      <td>West Bank and Gaza</td>\n",
       "      <td>3/9/23</td>\n",
       "      <td>703228</td>\n",
       "      <td>5708</td>\n",
       "      <td>0</td>\n",
       "    </tr>\n",
       "    <tr>\n",
       "      <th>229739</th>\n",
       "      <td>Winter Olympics 2022</td>\n",
       "      <td>3/9/23</td>\n",
       "      <td>535</td>\n",
       "      <td>0</td>\n",
       "      <td>0</td>\n",
       "    </tr>\n",
       "    <tr>\n",
       "      <th>229740</th>\n",
       "      <td>Yemen</td>\n",
       "      <td>3/9/23</td>\n",
       "      <td>11945</td>\n",
       "      <td>2159</td>\n",
       "      <td>0</td>\n",
       "    </tr>\n",
       "    <tr>\n",
       "      <th>229741</th>\n",
       "      <td>Zambia</td>\n",
       "      <td>3/9/23</td>\n",
       "      <td>343135</td>\n",
       "      <td>4057</td>\n",
       "      <td>0</td>\n",
       "    </tr>\n",
       "    <tr>\n",
       "      <th>229742</th>\n",
       "      <td>Zimbabwe</td>\n",
       "      <td>3/9/23</td>\n",
       "      <td>264276</td>\n",
       "      <td>5671</td>\n",
       "      <td>0</td>\n",
       "    </tr>\n",
       "  </tbody>\n",
       "</table>\n",
       "<p>229743 rows × 5 columns</p>\n",
       "</div>"
      ],
      "text/plain": [
       "              Country/Region     Date  Confirmed  Death  Recovered\n",
       "0                Afghanistan  1/22/20          0      0          0\n",
       "1                    Albania  1/22/20          0      0          0\n",
       "2                    Algeria  1/22/20          0      0          0\n",
       "3                    Andorra  1/22/20          0      0          0\n",
       "4                     Angola  1/22/20          0      0          0\n",
       "...                      ...      ...        ...    ...        ...\n",
       "229738    West Bank and Gaza   3/9/23     703228   5708          0\n",
       "229739  Winter Olympics 2022   3/9/23        535      0          0\n",
       "229740                 Yemen   3/9/23      11945   2159          0\n",
       "229741                Zambia   3/9/23     343135   4057          0\n",
       "229742              Zimbabwe   3/9/23     264276   5671          0\n",
       "\n",
       "[229743 rows x 5 columns]"
      ]
     },
     "execution_count": 15,
     "metadata": {},
     "output_type": "execute_result"
    }
   ],
   "source": [
    "df_merged1 = pd.merge(df_merged, recovered_df, on = ['Country/Region', 'Date'])\n",
    "df_merged1"
   ]
  },
  {
   "cell_type": "code",
   "execution_count": 11,
   "metadata": {},
   "outputs": [],
   "source": [
    "# confirmed_df.to_csv('confirmed.csv', index=False)\n",
    "# deaths_df.to_csv('deaths.csv', index=False)\n",
    "# recovered_df.to_csv('recovered.csv', index=False)\n",
    "\n",
    "df_merged1.to_csv('data.csv', index = False)\n"
   ]
  }
 ],
 "metadata": {
  "kernelspec": {
   "display_name": "Python 3",
   "language": "python",
   "name": "python3"
  },
  "language_info": {
   "codemirror_mode": {
    "name": "ipython",
    "version": 3
   },
   "file_extension": ".py",
   "mimetype": "text/x-python",
   "name": "python",
   "nbconvert_exporter": "python",
   "pygments_lexer": "ipython3",
   "version": "3.10.9"
  },
  "orig_nbformat": 4
 },
 "nbformat": 4,
 "nbformat_minor": 2
}
